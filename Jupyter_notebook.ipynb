{
  "metadata": {
    "kernelspec": {
      "name": "python",
      "display_name": "Python (Pyodide)",
      "language": "python"
    },
    "language_info": {
      "codemirror_mode": {
        "name": "python",
        "version": 3
      },
      "file_extension": ".py",
      "mimetype": "text/x-python",
      "name": "python",
      "nbconvert_exporter": "python",
      "pygments_lexer": "ipython3",
      "version": "3.8"
    }
  },
  "nbformat_minor": 4,
  "nbformat": 4,
  "cells": [
    {
      "cell_type": "markdown",
      "source": "<center>\n    <img src=\"https://cf-courses-data.s3.us.cloud-object-storage.appdomain.cloud/IBMDeveloperSkillsNetwork-DS0105EN-SkillsNetwork/labs/Module2/images/SN_web_lightmode.png\" width=\"300\" alt=\"cognitiveclass.ai logo\">\n</center>\n",
      "metadata": {},
      "attachments": {}
    },
    {
      "cell_type": "markdown",
      "source": "<h1>Data Science Tools and Ecosystem</h1>",
      "metadata": {}
    },
    {
      "cell_type": "markdown",
      "source": "<h2>In this notebook, Data Science Tools and Ecosystem are summarized.</h2>",
      "metadata": {}
    },
    {
      "cell_type": "markdown",
      "source": "<h2>Some of the popular languages that Data Scientists use are:</h2>\n<h3>1. Python</h3>\n<h3>2. Scala</h3>\n<h3>3. R</h3>\n<h3>4. SQL</h3>\n<h3>5. Julia</h3>\n<h3>6. Java</h3>",
      "metadata": {
        "tags": [],
        "editable": true,
        "slideshow": {
          "slide_type": ""
        }
      }
    },
    {
      "cell_type": "markdown",
      "source": "<h2>Some of the commonly used libraries used by Data Scientists include:</h2>\n<h4>1.Pandas</h4>\n<h4>2.NumPy</h4>\n<h4>3.VEGAS</h4>\n<h4>4.BigDL</h4>\n<h4>5.ggplot</h4>",
      "metadata": {}
    },
    {
      "cell_type": "markdown",
      "source": "<h2>Data Science Tools</h2>\n<h4>Jupyter Notebook</h4>\n<h4>VS code</h4>\n<h4>RStudio</h4>",
      "metadata": {}
    },
    {
      "cell_type": "markdown",
      "source": "<h1>Below are a few examples of evaluating arithmetic expressions in Python</h1>",
      "metadata": {}
    },
    {
      "cell_type": "code",
      "source": "(3*4)+5\n#This a simple arithmetic expression to mutiply then add integers",
      "metadata": {
        "trusted": true
      },
      "outputs": [
        {
          "execution_count": 1,
          "output_type": "execute_result",
          "data": {
            "text/plain": "17"
          },
          "metadata": {}
        }
      ],
      "execution_count": 1
    },
    {
      "cell_type": "code",
      "source": "minutes = 200\n#This will convert 200 minutes to hours by diving by 60\nhours = minutes / 60\nprint(f\"{minutes} minutes is equal to {hours} hours\")\n",
      "metadata": {
        "trusted": true
      },
      "outputs": [
        {
          "name": "stdout",
          "text": "200 minutes is equal to 3.3333333333333335 hours\n",
          "output_type": "stream"
        }
      ],
      "execution_count": 2
    },
    {
      "cell_type": "markdown",
      "source": "<h1>Objectives</h1>\n<h3>*List of Popular Languages that Data Scientist use</h3>\n<h3>*List of commonly used Library in Data Science</h3>\n<h3>*Data Science Tools</h3>\n<h3>*Example of evaluating Arithmetic Expression in Python</h3>\n<h3>*Conversion ov minutes in hours in Python</h3>",
      "metadata": {}
    },
    {
      "cell_type": "markdown",
      "source": "<h2>Author</h2>\nAmruta Narayan Gore",
      "metadata": {}
    },
    {
      "cell_type": "code",
      "source": "",
      "metadata": {
        "trusted": true
      },
      "outputs": [],
      "execution_count": null
    }
  ]
}